{
  "nbformat": 4,
  "nbformat_minor": 0,
  "metadata": {
    "colab": {
      "name": "tp1",
      "provenance": [],
      "collapsed_sections": []
    },
    "kernelspec": {
      "name": "python3",
      "display_name": "Python 3"
    }
  },
  "cells": [
    {
      "cell_type": "code",
      "metadata": {
        "id": "HD6Le0gM1rFh",
        "colab_type": "code",
        "colab": {}
      },
      "source": [
        "import pandas as pd\n",
        "import matplotlib.pyplot as plt"
      ],
      "execution_count": 0,
      "outputs": []
    },
    {
      "cell_type": "code",
      "metadata": {
        "id": "dOCH_8eO1tmm",
        "colab_type": "code",
        "colab": {}
      },
      "source": [
        "from pydrive.auth import GoogleAuth\n",
        "from pydrive.drive import GoogleDrive\n",
        "from google.colab import auth\n",
        "from oauth2client.client import GoogleCredentials\n",
        "\n",
        "# Authenticate and create the PyDrive client\n",
        "auth.authenticate_user()\n",
        "gauth = GoogleAuth()\n",
        "gauth.credentials = GoogleCredentials.get_application_default()\n",
        "drive = GoogleDrive(gauth)"
      ],
      "execution_count": 0,
      "outputs": []
    },
    {
      "cell_type": "code",
      "metadata": {
        "id": "1QYXpGyq1wIN",
        "colab_type": "code",
        "colab": {}
      },
      "source": [
        "id = '1GMD0hRhBxviRCP0TGNtHtmio3xDOAkHG'\n",
        "downloaded = drive.CreateFile({'id': id})\n",
        "downloaded.GetContentFile('train.csv')"
      ],
      "execution_count": 0,
      "outputs": []
    },
    {
      "cell_type": "code",
      "metadata": {
        "id": "Agt3Hw552So9",
        "colab_type": "code",
        "outputId": "2a024bac-1b22-4d4b-b435-9a0c0e31ed5e",
        "colab": {
          "base_uri": "https://localhost:8080/",
          "height": 206
        }
      },
      "source": [
        "tweets = pd.read_csv('train.csv')\n",
        "tweets.head()"
      ],
      "execution_count": 33,
      "outputs": [
        {
          "output_type": "execute_result",
          "data": {
            "text/html": [
              "<div>\n",
              "<style scoped>\n",
              "    .dataframe tbody tr th:only-of-type {\n",
              "        vertical-align: middle;\n",
              "    }\n",
              "\n",
              "    .dataframe tbody tr th {\n",
              "        vertical-align: top;\n",
              "    }\n",
              "\n",
              "    .dataframe thead th {\n",
              "        text-align: right;\n",
              "    }\n",
              "</style>\n",
              "<table border=\"1\" class=\"dataframe\">\n",
              "  <thead>\n",
              "    <tr style=\"text-align: right;\">\n",
              "      <th></th>\n",
              "      <th>id</th>\n",
              "      <th>keyword</th>\n",
              "      <th>location</th>\n",
              "      <th>text</th>\n",
              "      <th>target</th>\n",
              "    </tr>\n",
              "  </thead>\n",
              "  <tbody>\n",
              "    <tr>\n",
              "      <th>0</th>\n",
              "      <td>1</td>\n",
              "      <td>NaN</td>\n",
              "      <td>NaN</td>\n",
              "      <td>Our Deeds are the Reason of this #earthquake M...</td>\n",
              "      <td>1</td>\n",
              "    </tr>\n",
              "    <tr>\n",
              "      <th>1</th>\n",
              "      <td>4</td>\n",
              "      <td>NaN</td>\n",
              "      <td>NaN</td>\n",
              "      <td>Forest fire near La Ronge Sask. Canada</td>\n",
              "      <td>1</td>\n",
              "    </tr>\n",
              "    <tr>\n",
              "      <th>2</th>\n",
              "      <td>5</td>\n",
              "      <td>NaN</td>\n",
              "      <td>NaN</td>\n",
              "      <td>All residents asked to 'shelter in place' are ...</td>\n",
              "      <td>1</td>\n",
              "    </tr>\n",
              "    <tr>\n",
              "      <th>3</th>\n",
              "      <td>6</td>\n",
              "      <td>NaN</td>\n",
              "      <td>NaN</td>\n",
              "      <td>13,000 people receive #wildfires evacuation or...</td>\n",
              "      <td>1</td>\n",
              "    </tr>\n",
              "    <tr>\n",
              "      <th>4</th>\n",
              "      <td>7</td>\n",
              "      <td>NaN</td>\n",
              "      <td>NaN</td>\n",
              "      <td>Just got sent this photo from Ruby #Alaska as ...</td>\n",
              "      <td>1</td>\n",
              "    </tr>\n",
              "  </tbody>\n",
              "</table>\n",
              "</div>"
            ],
            "text/plain": [
              "   id keyword  ...                                               text target\n",
              "0   1     NaN  ...  Our Deeds are the Reason of this #earthquake M...      1\n",
              "1   4     NaN  ...             Forest fire near La Ronge Sask. Canada      1\n",
              "2   5     NaN  ...  All residents asked to 'shelter in place' are ...      1\n",
              "3   6     NaN  ...  13,000 people receive #wildfires evacuation or...      1\n",
              "4   7     NaN  ...  Just got sent this photo from Ruby #Alaska as ...      1\n",
              "\n",
              "[5 rows x 5 columns]"
            ]
          },
          "metadata": {
            "tags": []
          },
          "execution_count": 33
        }
      ]
    },
    {
      "cell_type": "markdown",
      "metadata": {
        "id": "1hexJppo3nFH",
        "colab_type": "text"
      },
      "source": [
        "Analizamos la columna **Keyword**"
      ]
    },
    {
      "cell_type": "code",
      "metadata": {
        "id": "wfgMV8IR1yAm",
        "colab_type": "code",
        "outputId": "59263d0d-2e93-4b94-f11f-45b2df17b262",
        "colab": {
          "base_uri": "https://localhost:8080/",
          "height": 34
        }
      },
      "source": [
        "keywords=tweets['keyword']\n",
        "keywords.value_counts()\n",
        "print(tweets['keyword'].isna().sum())"
      ],
      "execution_count": 34,
      "outputs": [
        {
          "output_type": "stream",
          "text": [
            "61\n"
          ],
          "name": "stdout"
        }
      ]
    },
    {
      "cell_type": "code",
      "metadata": {
        "id": "GN9coqSI10X5",
        "colab_type": "code",
        "outputId": "64f6d6e8-badc-4137-85c3-abf1268b08cc",
        "colab": {
          "base_uri": "https://localhost:8080/",
          "height": 34
        }
      },
      "source": [
        "keywords.value_counts().mean()"
      ],
      "execution_count": 35,
      "outputs": [
        {
          "output_type": "execute_result",
          "data": {
            "text/plain": [
              "34.171945701357465"
            ]
          },
          "metadata": {
            "tags": []
          },
          "execution_count": 35
        }
      ]
    },
    {
      "cell_type": "code",
      "metadata": {
        "id": "A9WhjPck11_R",
        "colab_type": "code",
        "outputId": "3ba5f322-595f-401a-b01f-a7707a60654b",
        "colab": {
          "base_uri": "https://localhost:8080/",
          "height": 312
        }
      },
      "source": [
        "keyword_grouped=tweets.groupby(['keyword']).agg({'target':['mean','count']})\n",
        "\n",
        "keyword_grouped[('target','count')].plot(kind='hist', bins=35)\n",
        "plt.xlabel('Cantidad de tweets')\n",
        "plt.ylabel('Cantidad de keywords')\n",
        "plt.title('Distribucion de keywords por tweets')"
      ],
      "execution_count": 36,
      "outputs": [
        {
          "output_type": "execute_result",
          "data": {
            "text/plain": [
              "Text(0.5, 1.0, 'Distribucion de keywords por tweets')"
            ]
          },
          "metadata": {
            "tags": []
          },
          "execution_count": 36
        },
        {
          "output_type": "display_data",
          "data": {
            "image/png": "[encoded data removed]",
            "text/plain": [
              "<Figure size 432x288 with 1 Axes>"
            ]
          },
          "metadata": {
            "tags": [],
            "needs_background": "light"
          }
        }
      ]
    },
    {
      "cell_type": "code",
      "metadata": {
        "id": "JgYCfoDk15Wy",
        "colab_type": "code",
        "outputId": "60d0e676-5ebb-4f0f-f7f9-bc1a37e187db",
        "colab": {
          "base_uri": "https://localhost:8080/",
          "height": 225
        }
      },
      "source": [
        "keyword_grouped[('target','mean')].nsmallest(10)\n"
      ],
      "execution_count": 37,
      "outputs": [
        {
          "output_type": "execute_result",
          "data": {
            "text/plain": [
              "keyword\n",
              "aftershock     0.000000\n",
              "body%20bags    0.024390\n",
              "ruin           0.027027\n",
              "blazing        0.029412\n",
              "body%20bag     0.030303\n",
              "electrocute    0.031250\n",
              "screaming      0.055556\n",
              "traumatised    0.057143\n",
              "blew%20up      0.060606\n",
              "panicking      0.060606\n",
              "Name: (target, mean), dtype: float64"
            ]
          },
          "metadata": {
            "tags": []
          },
          "execution_count": 37
        }
      ]
    },
    {
      "cell_type": "code",
      "metadata": {
        "id": "sTF_E08F3J3K",
        "colab_type": "code",
        "outputId": "7884c438-a797-40eb-f973-f46590e23848",
        "colab": {
          "base_uri": "https://localhost:8080/",
          "height": 225
        }
      },
      "source": [
        "keyword_grouped[('target','mean')].nlargest(10)"
      ],
      "execution_count": 38,
      "outputs": [
        {
          "output_type": "execute_result",
          "data": {
            "text/plain": [
              "keyword\n",
              "debris               1.000000\n",
              "derailment           1.000000\n",
              "wreckage             1.000000\n",
              "outbreak             0.975000\n",
              "oil%20spill          0.973684\n",
              "typhoon              0.973684\n",
              "suicide%20bombing    0.969697\n",
              "suicide%20bomber     0.967742\n",
              "bombing              0.931034\n",
              "rescuers             0.914286\n",
              "Name: (target, mean), dtype: float64"
            ]
          },
          "metadata": {
            "tags": []
          },
          "execution_count": 38
        }
      ]
    },
    {
      "cell_type": "code",
      "metadata": {
        "id": "x2MiePG01-Wa",
        "colab_type": "code",
        "outputId": "caf42161-754b-467b-8b80-9b12518026c1",
        "colab": {
          "base_uri": "https://localhost:8080/",
          "height": 1000
        }
      },
      "source": [
        "tweets.dropna(inplace=True,subset=['keyword'])    \n",
        "#Muestro los tweets que contienen 'aftershock'\n",
        "tweets[tweets['keyword'].str.contains(\"aftershock\")]"
      ],
      "execution_count": 40,
      "outputs": [
        {
          "output_type": "execute_result",
          "data": {
            "text/html": [
              "<div>\n",
              "<style scoped>\n",
              "    .dataframe tbody tr th:only-of-type {\n",
              "        vertical-align: middle;\n",
              "    }\n",
              "\n",
              "    .dataframe tbody tr th {\n",
              "        vertical-align: top;\n",
              "    }\n",
              "\n",
              "    .dataframe thead th {\n",
              "        text-align: right;\n",
              "    }\n",
              "</style>\n",
              "<table border=\"1\" class=\"dataframe\">\n",
              "  <thead>\n",
              "    <tr style=\"text-align: right;\">\n",
              "      <th></th>\n",
              "      <th>id</th>\n",
              "      <th>keyword</th>\n",
              "      <th>location</th>\n",
              "      <th>text</th>\n",
              "      <th>target</th>\n",
              "    </tr>\n",
              "  </thead>\n",
              "  <tbody>\n",
              "    <tr>\n",
              "      <th>102</th>\n",
              "      <td>146</td>\n",
              "      <td>aftershock</td>\n",
              "      <td>Instagram - @heyimginog</td>\n",
              "      <td>@afterShock_DeLo scuf ps live and the game... cya</td>\n",
              "      <td>0</td>\n",
              "    </tr>\n",
              "    <tr>\n",
              "      <th>103</th>\n",
              "      <td>149</td>\n",
              "      <td>aftershock</td>\n",
              "      <td>304</td>\n",
              "      <td>'The man who can drive himself further once th...</td>\n",
              "      <td>0</td>\n",
              "    </tr>\n",
              "    <tr>\n",
              "      <th>104</th>\n",
              "      <td>151</td>\n",
              "      <td>aftershock</td>\n",
              "      <td>Switzerland</td>\n",
              "      <td>320 [IR] ICEMOON [AFTERSHOCK] | http://t.co/yN...</td>\n",
              "      <td>0</td>\n",
              "    </tr>\n",
              "    <tr>\n",
              "      <th>105</th>\n",
              "      <td>153</td>\n",
              "      <td>aftershock</td>\n",
              "      <td>304</td>\n",
              "      <td>'There is no victory at bargain basement price...</td>\n",
              "      <td>0</td>\n",
              "    </tr>\n",
              "    <tr>\n",
              "      <th>106</th>\n",
              "      <td>156</td>\n",
              "      <td>aftershock</td>\n",
              "      <td>US</td>\n",
              "      <td>320 [IR] ICEMOON [AFTERSHOCK] | http://t.co/vA...</td>\n",
              "      <td>0</td>\n",
              "    </tr>\n",
              "    <tr>\n",
              "      <th>107</th>\n",
              "      <td>157</td>\n",
              "      <td>aftershock</td>\n",
              "      <td>304</td>\n",
              "      <td>'Nobody remembers who came in second.' Charles...</td>\n",
              "      <td>0</td>\n",
              "    </tr>\n",
              "    <tr>\n",
              "      <th>108</th>\n",
              "      <td>158</td>\n",
              "      <td>aftershock</td>\n",
              "      <td>Instagram - @heyimginog</td>\n",
              "      <td>@afterShock_DeLo im speaking from someone that...</td>\n",
              "      <td>0</td>\n",
              "    </tr>\n",
              "    <tr>\n",
              "      <th>109</th>\n",
              "      <td>159</td>\n",
              "      <td>aftershock</td>\n",
              "      <td>304</td>\n",
              "      <td>'The harder the conflict the more glorious the...</td>\n",
              "      <td>0</td>\n",
              "    </tr>\n",
              "    <tr>\n",
              "      <th>110</th>\n",
              "      <td>160</td>\n",
              "      <td>aftershock</td>\n",
              "      <td>NaN</td>\n",
              "      <td>#GrowingUpSpoiled going clay pigeon shooting a...</td>\n",
              "      <td>0</td>\n",
              "    </tr>\n",
              "    <tr>\n",
              "      <th>111</th>\n",
              "      <td>161</td>\n",
              "      <td>aftershock</td>\n",
              "      <td>Somewhere Only We Know ?</td>\n",
              "      <td>So i guess no one actually wants any free Afte...</td>\n",
              "      <td>0</td>\n",
              "    </tr>\n",
              "    <tr>\n",
              "      <th>112</th>\n",
              "      <td>162</td>\n",
              "      <td>aftershock</td>\n",
              "      <td>NaN</td>\n",
              "      <td>Aftershock was the most terrifying best roller...</td>\n",
              "      <td>0</td>\n",
              "    </tr>\n",
              "    <tr>\n",
              "      <th>113</th>\n",
              "      <td>163</td>\n",
              "      <td>aftershock</td>\n",
              "      <td>Belgium</td>\n",
              "      <td>Aftershock https://t.co/xMWODFMtUI</td>\n",
              "      <td>0</td>\n",
              "    </tr>\n",
              "    <tr>\n",
              "      <th>114</th>\n",
              "      <td>164</td>\n",
              "      <td>aftershock</td>\n",
              "      <td>Switzerland</td>\n",
              "      <td>320 [IR] ICEMOON [AFTERSHOCK] | http://t.co/M4...</td>\n",
              "      <td>0</td>\n",
              "    </tr>\n",
              "    <tr>\n",
              "      <th>115</th>\n",
              "      <td>165</td>\n",
              "      <td>aftershock</td>\n",
              "      <td>US</td>\n",
              "      <td>320 [IR] ICEMOON [AFTERSHOCK] | http://t.co/vA...</td>\n",
              "      <td>0</td>\n",
              "    </tr>\n",
              "    <tr>\n",
              "      <th>116</th>\n",
              "      <td>168</td>\n",
              "      <td>aftershock</td>\n",
              "      <td>NaN</td>\n",
              "      <td>320 [IR] ICEMOON [AFTERSHOCK] | http://t.co/e1...</td>\n",
              "      <td>0</td>\n",
              "    </tr>\n",
              "    <tr>\n",
              "      <th>117</th>\n",
              "      <td>170</td>\n",
              "      <td>aftershock</td>\n",
              "      <td>dope show</td>\n",
              "      <td>@KJForDays I'm seeing them and Issues at after...</td>\n",
              "      <td>0</td>\n",
              "    </tr>\n",
              "    <tr>\n",
              "      <th>118</th>\n",
              "      <td>171</td>\n",
              "      <td>aftershock</td>\n",
              "      <td>Switzerland</td>\n",
              "      <td>320 [IR] ICEMOON [AFTERSHOCK] | http://t.co/TH...</td>\n",
              "      <td>0</td>\n",
              "    </tr>\n",
              "    <tr>\n",
              "      <th>119</th>\n",
              "      <td>172</td>\n",
              "      <td>aftershock</td>\n",
              "      <td>Switzerland</td>\n",
              "      <td>320 [IR] ICEMOON [AFTERSHOCK] | http://t.co/TH...</td>\n",
              "      <td>0</td>\n",
              "    </tr>\n",
              "    <tr>\n",
              "      <th>120</th>\n",
              "      <td>173</td>\n",
              "      <td>aftershock</td>\n",
              "      <td>Oshawa, Canada</td>\n",
              "      <td>#WisdomWed BONUS - 5 Minute Daily Habits that ...</td>\n",
              "      <td>0</td>\n",
              "    </tr>\n",
              "    <tr>\n",
              "      <th>121</th>\n",
              "      <td>174</td>\n",
              "      <td>aftershock</td>\n",
              "      <td>Baker City Oregon</td>\n",
              "      <td>Aftershock: Protect Yourself and Profit in the...</td>\n",
              "      <td>0</td>\n",
              "    </tr>\n",
              "    <tr>\n",
              "      <th>122</th>\n",
              "      <td>175</td>\n",
              "      <td>aftershock</td>\n",
              "      <td>NaN</td>\n",
              "      <td>That moment when you get on a scary roller coa...</td>\n",
              "      <td>0</td>\n",
              "    </tr>\n",
              "    <tr>\n",
              "      <th>123</th>\n",
              "      <td>176</td>\n",
              "      <td>aftershock</td>\n",
              "      <td>NaN</td>\n",
              "      <td>Aftershock ã¢ (2010) Fullã¢ Streaming - YouT...</td>\n",
              "      <td>0</td>\n",
              "    </tr>\n",
              "    <tr>\n",
              "      <th>124</th>\n",
              "      <td>178</td>\n",
              "      <td>aftershock</td>\n",
              "      <td>United States</td>\n",
              "      <td>&amp;gt;&amp;gt; $15 Aftershock : Protect Yourself and...</td>\n",
              "      <td>0</td>\n",
              "    </tr>\n",
              "    <tr>\n",
              "      <th>125</th>\n",
              "      <td>180</td>\n",
              "      <td>aftershock</td>\n",
              "      <td>304</td>\n",
              "      <td>Sometimes you face difficulties not because yo...</td>\n",
              "      <td>0</td>\n",
              "    </tr>\n",
              "    <tr>\n",
              "      <th>126</th>\n",
              "      <td>182</td>\n",
              "      <td>aftershock</td>\n",
              "      <td>304</td>\n",
              "      <td>'The only thing that stands between you and yo...</td>\n",
              "      <td>0</td>\n",
              "    </tr>\n",
              "    <tr>\n",
              "      <th>127</th>\n",
              "      <td>183</td>\n",
              "      <td>aftershock</td>\n",
              "      <td>marysville ca</td>\n",
              "      <td>Praise God that we have ministry that tells it...</td>\n",
              "      <td>0</td>\n",
              "    </tr>\n",
              "    <tr>\n",
              "      <th>128</th>\n",
              "      <td>184</td>\n",
              "      <td>aftershock</td>\n",
              "      <td>304</td>\n",
              "      <td>'Remembering that you are going to die is the ...</td>\n",
              "      <td>0</td>\n",
              "    </tr>\n",
              "    <tr>\n",
              "      <th>129</th>\n",
              "      <td>185</td>\n",
              "      <td>aftershock</td>\n",
              "      <td>Hermosa Beach, CA</td>\n",
              "      <td>Tried orange aftershock today. My life will ne...</td>\n",
              "      <td>0</td>\n",
              "    </tr>\n",
              "    <tr>\n",
              "      <th>130</th>\n",
              "      <td>187</td>\n",
              "      <td>aftershock</td>\n",
              "      <td>NaN</td>\n",
              "      <td>@OnFireAnders I love you bb</td>\n",
              "      <td>0</td>\n",
              "    </tr>\n",
              "    <tr>\n",
              "      <th>131</th>\n",
              "      <td>190</td>\n",
              "      <td>aftershock</td>\n",
              "      <td>NaN</td>\n",
              "      <td>Aftershock https://t.co/jV8ppKhJY7</td>\n",
              "      <td>0</td>\n",
              "    </tr>\n",
              "    <tr>\n",
              "      <th>132</th>\n",
              "      <td>191</td>\n",
              "      <td>aftershock</td>\n",
              "      <td>NaN</td>\n",
              "      <td>Aftershock back to school kick off was great. ...</td>\n",
              "      <td>0</td>\n",
              "    </tr>\n",
              "    <tr>\n",
              "      <th>133</th>\n",
              "      <td>193</td>\n",
              "      <td>aftershock</td>\n",
              "      <td>304</td>\n",
              "      <td>People who say it cannot be done should not in...</td>\n",
              "      <td>0</td>\n",
              "    </tr>\n",
              "    <tr>\n",
              "      <th>134</th>\n",
              "      <td>194</td>\n",
              "      <td>aftershock</td>\n",
              "      <td>304</td>\n",
              "      <td>'The first man gets the oyster the second man ...</td>\n",
              "      <td>0</td>\n",
              "    </tr>\n",
              "    <tr>\n",
              "      <th>135</th>\n",
              "      <td>195</td>\n",
              "      <td>aftershock</td>\n",
              "      <td>NaN</td>\n",
              "      <td>Anyone need a P/U tonight? I play Hybrid Slaye...</td>\n",
              "      <td>0</td>\n",
              "    </tr>\n",
              "  </tbody>\n",
              "</table>\n",
              "</div>"
            ],
            "text/plain": [
              "      id     keyword  ...                                               text target\n",
              "102  146  aftershock  ...  @afterShock_DeLo scuf ps live and the game... cya      0\n",
              "103  149  aftershock  ...  'The man who can drive himself further once th...      0\n",
              "104  151  aftershock  ...  320 [IR] ICEMOON [AFTERSHOCK] | http://t.co/yN...      0\n",
              "105  153  aftershock  ...  'There is no victory at bargain basement price...      0\n",
              "106  156  aftershock  ...  320 [IR] ICEMOON [AFTERSHOCK] | http://t.co/vA...      0\n",
              "107  157  aftershock  ...  'Nobody remembers who came in second.' Charles...      0\n",
              "108  158  aftershock  ...  @afterShock_DeLo im speaking from someone that...      0\n",
              "109  159  aftershock  ...  'The harder the conflict the more glorious the...      0\n",
              "110  160  aftershock  ...  #GrowingUpSpoiled going clay pigeon shooting a...      0\n",
              "111  161  aftershock  ...  So i guess no one actually wants any free Afte...      0\n",
              "112  162  aftershock  ...  Aftershock was the most terrifying best roller...      0\n",
              "113  163  aftershock  ...                 Aftershock https://t.co/xMWODFMtUI      0\n",
              "114  164  aftershock  ...  320 [IR] ICEMOON [AFTERSHOCK] | http://t.co/M4...      0\n",
              "115  165  aftershock  ...  320 [IR] ICEMOON [AFTERSHOCK] | http://t.co/vA...      0\n",
              "116  168  aftershock  ...  320 [IR] ICEMOON [AFTERSHOCK] | http://t.co/e1...      0\n",
              "117  170  aftershock  ...  @KJForDays I'm seeing them and Issues at after...      0\n",
              "118  171  aftershock  ...  320 [IR] ICEMOON [AFTERSHOCK] | http://t.co/TH...      0\n",
              "119  172  aftershock  ...  320 [IR] ICEMOON [AFTERSHOCK] | http://t.co/TH...      0\n",
              "120  173  aftershock  ...  #WisdomWed BONUS - 5 Minute Daily Habits that ...      0\n",
              "121  174  aftershock  ...  Aftershock: Protect Yourself and Profit in the...      0\n",
              "122  175  aftershock  ...  That moment when you get on a scary roller coa...      0\n",
              "123  176  aftershock  ...  Aftershock ã¢ (2010) Fullã¢ Streaming - YouT...      0\n",
              "124  178  aftershock  ...  &gt;&gt; $15 Aftershock : Protect Yourself and...      0\n",
              "125  180  aftershock  ...  Sometimes you face difficulties not because yo...      0\n",
              "126  182  aftershock  ...  'The only thing that stands between you and yo...      0\n",
              "127  183  aftershock  ...  Praise God that we have ministry that tells it...      0\n",
              "128  184  aftershock  ...  'Remembering that you are going to die is the ...      0\n",
              "129  185  aftershock  ...  Tried orange aftershock today. My life will ne...      0\n",
              "130  187  aftershock  ...                        @OnFireAnders I love you bb      0\n",
              "131  190  aftershock  ...                 Aftershock https://t.co/jV8ppKhJY7      0\n",
              "132  191  aftershock  ...  Aftershock back to school kick off was great. ...      0\n",
              "133  193  aftershock  ...  People who say it cannot be done should not in...      0\n",
              "134  194  aftershock  ...  'The first man gets the oyster the second man ...      0\n",
              "135  195  aftershock  ...  Anyone need a P/U tonight? I play Hybrid Slaye...      0\n",
              "\n",
              "[34 rows x 5 columns]"
            ]
          },
          "metadata": {
            "tags": []
          },
          "execution_count": 40
        }
      ]
    },
    {
      "cell_type": "code",
      "metadata": {
        "id": "V22CYj022645",
        "colab_type": "code",
        "outputId": "507136b2-5792-4519-92f9-5ddea6fc19bb",
        "colab": {
          "base_uri": "https://localhost:8080/",
          "height": 69
        }
      },
      "source": [
        "tweets[tweets['keyword'].str.contains(\"quarantine\")].mean()"
      ],
      "execution_count": 41,
      "outputs": [
        {
          "output_type": "execute_result",
          "data": {
            "text/plain": [
              "id        7846.281690\n",
              "target       0.267606\n",
              "dtype: float64"
            ]
          },
          "metadata": {
            "tags": []
          },
          "execution_count": 41
        }
      ]
    }
  ]
}